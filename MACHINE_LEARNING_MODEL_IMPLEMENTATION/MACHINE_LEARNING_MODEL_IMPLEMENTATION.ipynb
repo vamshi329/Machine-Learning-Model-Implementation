{
 "cells": [
  {
   "cell_type": "markdown",
   "id": "68701065-9170-41f4-ba19-18445f0de5d1",
   "metadata": {},
   "source": [
    " # Machine Learning Model Implementation (Iris Dataset)\n",
    "\n",
    "This notebook demonstrates the process of building, training, and evaluating a machine learning classification model using `scikit-learn` in Python. We will use the famous Iris dataset for this example."
   ]
  },
  {
   "cell_type": "markdown",
   "id": "b114ea0e-2c39-4588-8d8c-1bac9904bc34",
   "metadata": {},
   "source": [
    "## Section 1: Import Libraries\n",
    "\n",
    "We start by importing all necessary libraries for data manipulation, machine learning, and visualization."
   ]
  },
  {
   "cell_type": "code",
   "execution_count": null,
   "id": "294cd0c7-ded2-4ac1-8d27-3adddcdb1714",
   "metadata": {},
   "outputs": [],
   "source": [
    "import pandas as pd\n",
    "import numpy as np\n",
    "from sklearn.model_selection import train_test_split\n",
    "from sklearn.preprocessing import StandardScaler\n",
    "from sklearn.naive_bayes import GaussianNB # Or other classification models like LogisticRegression, RandomForestClassifier, SVC\n",
    "from sklearn.metrics import accuracy_score, classification_report, confusion_matrix\n",
    "import matplotlib.pyplot as plt\n",
    "import seaborn as sns\n",
    "import os # To handle output directories if needed"
   ]
  },
  {
   "cell_type": "markdown",
   "id": "1a81358f-c835-4dd4-bf7c-c1c03b2c90a5",
   "metadata": {},
   "source": [
    "## Section 2: Load the Dataset\n",
    "\n",
    "The Iris dataset is a classic dataset in machine learning, often used for classification tasks. It contains 150 samples of iris flowers, each with 4 features (sepal length, sepal width, petal length, petal width) and a target variable indicating the species (setosa, versicolor, virginica)."
   ]
  },
  {
   "cell_type": "code",
   "execution_count": null,
   "id": "68095049-84d1-490f-aee4-d631b4e71e7e",
   "metadata": {},
   "outputs": [
    {
     "name": "stdout",
     "output_type": "stream",
     "text": [
      "--- Loading Dataset ---\n",
      "Features (X) head:\n",
      "   sepal length (cm)  sepal width (cm)  petal length (cm)  petal width (cm)\n",
      "0                5.1               3.5                1.4               0.2\n",
      "1                4.9               3.0                1.4               0.2\n",
      "2                4.7               3.2                1.3               0.2\n",
      "3                4.6               3.1                1.5               0.2\n",
      "4                5.0               3.6                1.4               0.2\n",
      "\n",
      "Target (y) head:\n",
      "0    0\n",
      "1    0\n",
      "2    0\n",
      "3    0\n",
      "4    0\n",
      "dtype: int32\n",
      "\n",
      "Target names: ['setosa' 'versicolor' 'virginica']\n"
     ]
    }
   ],
   "source": [
    "from sklearn.datasets import load_iris\n",
    "\n",
    "print(\"--- Loading Dataset ---\")\n",
    "iris = load_iris()\n",
    "X = pd.DataFrame(iris.data, columns=iris.feature_names)\n",
    "y = pd.Series(iris.target)\n",
    "\n",
    "print(\"Features (X) head:\")\n",
    "print(X.head())\n",
    "print(\"\\nTarget (y) head:\")\n",
    "print(y.head())\n",
    "print(\"\\nTarget names:\", iris.target_names)"
   ]
  },
  {
   "cell_type": "markdown",
   "id": "4fc7e8c8-ea36-4555-84a1-00a9b5c55772",
   "metadata": {},
   "source": [
    "## Section 3: Exploratory Data Analysis (EDA) - Basic\n",
    "\n",
    "Before modeling, it's essential to understand the basic structure and characteristics of our data. We'll check data types, descriptive statistics, and look for missing values. We'll also visualize the distribution of the target classes."
   ]
  },
  {
   "cell_type": "code",
   "execution_count": null,
   "id": "964345f4-4f59-4b83-8578-9834a33e84e1",
   "metadata": {},
   "outputs": [
    {
     "name": "stdout",
     "output_type": "stream",
     "text": [
      "\n",
      "--- Performing Basic EDA ---\n",
      "\n",
      "Dataset Info:\n",
      "<class 'pandas.core.frame.DataFrame'>\n",
      "RangeIndex: 150 entries, 0 to 149\n",
      "Data columns (total 4 columns):\n",
      " #   Column             Non-Null Count  Dtype  \n",
      "---  ------             --------------  -----  \n",
      " 0   sepal length (cm)  150 non-null    float64\n",
      " 1   sepal width (cm)   150 non-null    float64\n",
      " 2   petal length (cm)  150 non-null    float64\n",
      " 3   petal width (cm)   150 non-null    float64\n",
      "dtypes: float64(4)\n",
      "memory usage: 4.8 KB\n",
      "\n",
      "Dataset Description:\n",
      "       sepal length (cm)  sepal width (cm)  petal length (cm)  \\\n",
      "count         150.000000        150.000000         150.000000   \n",
      "mean            5.843333          3.057333           3.758000   \n",
      "std             0.828066          0.435866           1.765298   \n",
      "min             4.300000          2.000000           1.000000   \n",
      "25%             5.100000          2.800000           1.600000   \n",
      "50%             5.800000          3.000000           4.350000   \n",
      "75%             6.400000          3.300000           5.100000   \n",
      "max             7.900000          4.400000           6.900000   \n",
      "\n",
      "       petal width (cm)  \n",
      "count        150.000000  \n",
      "mean           1.199333  \n",
      "std            0.762238  \n",
      "min            0.100000  \n",
      "25%            0.300000  \n",
      "50%            1.300000  \n",
      "75%            1.800000  \n",
      "max            2.500000  \n",
      "\n",
      "Missing values:\n",
      "sepal length (cm)    0\n",
      "sepal width (cm)     0\n",
      "petal length (cm)    0\n",
      "petal width (cm)     0\n",
      "dtype: int64\n"
     ]
    },
    {
     "data": {
      "image/png": "[encoded data removed]",
      "text/plain": [
       "<Figure size 600x400 with 1 Axes>"
      ]
     },
     "metadata": {},
     "output_type": "display_data"
    }
   ],
   "source": [
    "print(\"\\n--- Performing Basic EDA ---\")\n",
    "print(\"\\nDataset Info:\")\n",
    "X.info()\n",
    "print(\"\\nDataset Description:\")\n",
    "print(X.describe())\n",
    "print(\"\\nMissing values:\")\n",
    "print(X.isnull().sum())\n",
    "\n",
    "# Visualize target distribution (display directly in notebook)\n",
    "plt.figure(figsize=(6, 4))\n",
    "sns.countplot(x=y)\n",
    "plt.title('Distribution of Target Classes')\n",
    "plt.xlabel('Class')\n",
    "plt.ylabel('Count')\n",
    "plt.xticks(ticks=[0, 1, 2], labels=iris.target_names)\n",
    "plt.show() # Use plt.show() to display in the notebook\n",
    "\n",
    "# If you still want to save it to a file:\n",
    "# output_dir = 'output_plots'\n",
    "# os.makedirs(output_dir, exist_ok=True)\n",
    "# plt.savefig(os.path.join(output_dir, 'target_distribution.png'))\n",
    "# plt.close()"
   ]
  },
  {
   "cell_type": "code",
   "execution_count": null,
   "id": "6cb4f688",
   "metadata": {},
   "outputs": [],
   "source": []
  },
  {
   "cell_type": "markdown",
   "id": "c20f9281-e354-46e3-9995-8eb771a8cb7c",
   "metadata": {},
   "source": [
    "## Section 4: Data Preprocessing\n",
    "\n",
    "This step involves preparing the data for the machine learning model. We will split the dataset into training and testing sets to evaluate the model on unseen data, and then apply feature scaling to ensure features contribute equally to the model's learning.\n"
   ]
  },
  {
   "cell_type": "code",
   "execution_count": null,
   "id": "f6380f1d-8542-447d-8bd1-32d5d6d14e5f",
   "metadata": {},
   "outputs": [
    {
     "name": "stdout",
     "output_type": "stream",
     "text": [
      "\n",
      "--- Performing Data Preprocessing ---\n",
      "Training set size: 105 samples\n",
      "Testing set size: 45 samples\n",
      "Data scaled.\n"
     ]
    }
   ],
   "source": [
    "print(\"\\n--- Performing Data Preprocessing ---\")\n",
    "X_train, X_test, y_train, y_test = train_test_split(X, y, test_size=0.3, random_state=42, stratify=y)\n",
    "\n",
    "print(f\"Training set size: {X_train.shape[0]} samples\")\n",
    "print(f\"Testing set size: {X_test.shape[0]} samples\")\n",
    "\n",
    "scaler = StandardScaler()\n",
    "X_train_scaled = scaler.fit_transform(X_train)\n",
    "X_test_scaled = scaler.transform(X_test)\n",
    "print(\"Data scaled.\")"
   ]
  },
  {
   "cell_type": "markdown",
   "id": "2541c9c6-1f95-4735-b098-18b0b3eb1db5",
   "metadata": {},
   "source": [
    "## Section 5: Model Selection and Training\n",
    "\n",
    "We choose a Gaussian Naive Bayes classifier, which is suitable for normally distributed numerical features. The model is then trained on the scaled training data."
   ]
  },
  {
   "cell_type": "code",
   "execution_count": null,
   "id": "1973746d-c6d8-4753-949e-de68b0546fa8",
   "metadata": {},
   "outputs": [
    {
     "name": "stdout",
     "output_type": "stream",
     "text": [
      "\n",
      "--- Training Model ---\n",
      "Model training complete.\n"
     ]
    }
   ],
   "source": [
    "print(\"\\n--- Training Model ---\")\n",
    "model = GaussianNB()\n",
    "model.fit(X_train_scaled, y_train)\n",
    "print(\"Model training complete.\")"
   ]
  },
  {
   "cell_type": "markdown",
   "id": "b9c9e063-ee08-412f-a705-915ea9661d97",
   "metadata": {},
   "source": [
    "## Section 6: Model Prediction\n",
    "\n",
    "After training, we use the model to make predictions on the unseen test dataset."
   ]
  },
  {
   "cell_type": "code",
   "execution_count": null,
   "id": "4c5dbe3d-4c6c-4267-ad82-f4a36a83261c",
   "metadata": {},
   "outputs": [
    {
     "name": "stdout",
     "output_type": "stream",
     "text": [
      "\n",
      "--- Generating Predictions ---\n",
      "Predictions on test set generated.\n"
     ]
    }
   ],
   "source": [
    "print(\"\\n--- Generating Predictions ---\")\n",
    "y_pred = model.predict(X_test_scaled)\n",
    "print(\"Predictions on test set generated.\")"
   ]
  },
  {
   "cell_type": "markdown",
   "id": "98e6bf72-6945-40ed-ba81-afaedc601864",
   "metadata": {},
   "source": [
    "## Section 7: Model Evaluation\n",
    "\n",
    "Model performance is assessed using various metrics such as accuracy, precision, recall, f1-score, and a confusion matrix. These metrics help us understand how well the model is performing and where it might be making errors."
   ]
  },
  {
   "cell_type": "code",
   "execution_count": null,
   "id": "46db8abb-4434-4e27-963f-e9accaa15230",
   "metadata": {},
   "outputs": [
    {
     "name": "stdout",
     "output_type": "stream",
     "text": [
      "\n",
      "--- Evaluating Model Performance ---\n",
      "Accuracy: 0.9111\n",
      "\n",
      "Classification Report:\n",
      "              precision    recall  f1-score   support\n",
      "\n",
      "      setosa       1.00      1.00      1.00        15\n",
      "  versicolor       0.82      0.93      0.88        15\n",
      "   virginica       0.92      0.80      0.86        15\n",
      "\n",
      "    accuracy                           0.91        45\n",
      "   macro avg       0.92      0.91      0.91        45\n",
      "weighted avg       0.92      0.91      0.91        45\n",
      "\n"
     ]
    },
    {
     "data": {
      "image/png": "[encoded data removed]",
      "text/plain": [
       "<Figure size 800x600 with 2 Axes>"
      ]
     },
     "metadata": {},
     "output_type": "display_data"
    }
   ],
   "source": [
    "print(\"\\n--- Evaluating Model Performance ---\")\n",
    "accuracy = accuracy_score(y_test, y_pred)\n",
    "print(f\"Accuracy: {accuracy:.4f}\")\n",
    "\n",
    "print(\"\\nClassification Report:\")\n",
    "report = classification_report(y_test, y_pred, target_names=iris.target_names)\n",
    "print(report)\n",
    "# You can still save the report to a file if needed, but printing is usually sufficient for notebooks.\n",
    "# with open(os.path.join(output_dir, 'classification_report.txt'), 'w') as f:\n",
    "#     f.write(report)\n",
    "\n",
    "cm = confusion_matrix(y_test, y_pred)\n",
    "plt.figure(figsize=(8, 6))\n",
    "sns.heatmap(cm, annot=True, fmt='d', cmap='Blues', xticklabels=iris.target_names, yticklabels=iris.target_names)\n",
    "plt.xlabel('Predicted')\n",
    "plt.ylabel('Actual')\n",
    "plt.title('Confusion Matrix')\n",
    "plt.show() # Use plt.show() to display in the notebook\n",
    "\n",
    "# If you still want to save it to a file:\n",
    "# plt.savefig(os.path.join(output_dir, 'confusion_matrix.png'))\n",
    "# plt.close()\n",
    "\n",
    "# print(f\"Evaluation results (accuracy, report, confusion matrix) saved to '{output_dir}'.\") # Remove or comment out if not saving to file"
   ]
  },
  {
   "cell_type": "markdown",
   "id": "73b1a5d6-b63e-4f4b-866d-1b3b5c01dc91",
   "metadata": {},
   "source": [
    "## Section 8: Make a Single Prediction (Optional)\n",
    "\n",
    "Finally, we demonstrate how to use the trained model to make a prediction on a new, unseen data point. Remember that new data points must be preprocessed (scaled) in the same way the training data was."
   ]
  },
  {
   "cell_type": "code",
   "execution_count": null,
   "id": "5b23514d-f22d-4570-8b02-b590e24c8536",
   "metadata": {},
   "outputs": [
    {
     "name": "stdout",
     "output_type": "stream",
     "text": [
      "\n",
      "--- Demonstrating Single Prediction ---\n",
      "New data point: [[5.1 3.5 1.4 0.2]]\n",
      "Predicted class index: 0\n",
      "Predicted class name: setosa\n",
      "\n",
      "Script finished.\n"
     ]
    }
   ],
   "source": [
    "print(\"\\n--- Demonstrating Single Prediction ---\")\n",
    "new_data_point = np.array([[5.1, 3.5, 1.4, 0.2]]) # Example Iris features\n",
    "\n",
    "# Scale the new data point\n",
    "# Suppress the UserWarning if you're okay with the array input\n",
    "import warnings\n",
    "with warnings.catch_warnings():\n",
    "    warnings.simplefilter(\"ignore\")\n",
    "    new_data_point_scaled = scaler.transform(new_data_point)\n",
    "\n",
    "predicted_class_index = model.predict(new_data_point_scaled)[0]\n",
    "predicted_class_name = iris.target_names[predicted_class_index]\n",
    "\n",
    "print(f\"New data point: {new_data_point}\")\n",
    "print(f\"Predicted class index: {predicted_class_index}\")\n",
    "print(f\"Predicted class name: {predicted_class_name}\")\n",
    "\n",
    "print(\"\\nScript finished.\")"
   ]
  }
 ],
 "metadata": {
  "kernelspec": {
   "display_name": "Python 3 (ipykernel)",
   "language": "python",
   "name": "python3"
  },
  "language_info": {
   "codemirror_mode": {
    "name": "ipython",
    "version": 3
   },
   "file_extension": ".py",
   "mimetype": "text/x-python",
   "name": "python",
   "nbconvert_exporter": "python",
   "pygments_lexer": "ipython3",
   "version": "3.12.4"
  }
 },
 "nbformat": 4,
 "nbformat_minor": 5
}
